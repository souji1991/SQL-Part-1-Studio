{
    "metadata": {
        "kernelspec": {
            "name": "SQL",
            "display_name": "SQL",
            "language": "sql"
        },
        "language_info": {
            "name": "sql",
            "version": ""
        },
        "extensions": {
            "azuredatastudio": {
                "version": 1,
                "views": []
            }
        }
    },
    "nbformat_minor": 2,
    "nbformat": 4,
    "cells": [
        {
            "cell_type": "markdown",
            "source": [
                "# SQL Part 1 Studio\n",
                "\n",
                "### Let's practice your SQL quering skills!  For each question, work along in the notebook adding your query and answering the questions. \n",
                "\n",
                "### **DataSet**\n",
                "\n",
                "### <span style=\"font-size: 14px; font-family: -apple-system, BlinkMacSystemFont, sans-serif;\">We will be using the Goodbooks-10k dataset from the exercises in the prep work.&nbsp; Feel free to reference your notebook.</span>\n",
                "\n",
                "- The dataset can be found here: [goodbooks-10k](https://www.kaggle.com/zygmunt/goodbooks-10k)\n",
                "- You can access the **BooksDB** in the Launchcode server.\n",
                "\n",
                "### **Business Issue**\n",
                "\n",
                "You work for a small independant book store and you want to increase sales by running various promotions.  Start by becoming more familar with the BooksDB."
            ],
            "metadata": {
                "azdata_cell_guid": "b9034d8a-b631-48bf-a895-1012a6ffa784"
            }
        },
        {
            "cell_type": "markdown",
            "source": [
                "## Part 1. BooksDB Questions\n",
                "\n",
                "<span style=\"color: rgba(0, 0, 0, 0.87); font-family: -apple-system, system-ui, &quot;Segoe UI&quot;, Helvetica, Arial, sans-serif, &quot;Apple Color Emoji&quot;, &quot;Segoe UI Emoji&quot;, &quot;Segoe UI Symbol&quot;; background-color: rgb(255, 255, 255);\">Question 1:&nbsp; Write a query of the books table, returning the TOP 100 results and&nbsp; includes, book_id, authors, title, average_rating.&nbsp; Use an alias for at least one column and in descending order of rating.&nbsp; What is the number one book?</span>"
            ],
            "metadata": {
                "azdata_cell_guid": "6e55eb1c-4a14-4076-90d2-95ed17a6309f",
                "tags": [
                    "hide_input"
                ]
            },
            "attachments": {}
        },
        {
            "cell_type": "code",
            "source": [
                "SELECT TOP 100 book_id,authors,title,average_rating'AVERAGE' FROM BooksDB.dbo.books  ORDER BY AVERAGE DESC\n",
                ""
            ],
            "metadata": {
                "azdata_cell_guid": "470b0ca4-9a32-4b46-a42e-bbb645101769",
                "tags": [],
                "language": "sql"
            },
            "outputs": [
                {
                    "output_type": "display_data",
                    "data": {
                        "text/html": "(100 rows affected)"
                    },
                    "metadata": {}
                },
                {
                    "output_type": "display_data",
                    "data": {
                        "text/html": "Total execution time: 00:00:00.136"
                    },
                    "metadata": {}
                },
                {
                    "output_type": "execute_result",
                    "metadata": {},
                    "execution_count": 11,
                    "data": {
                        "application/vnd.dataresource+json": {
                            "schema": {
                                "fields": [
                                    {
                                        "name": "book_id"
                                    },
                                    {
                                        "name": "authors"
                                    },
                                    {
                                        "name": "title"
                                    },
                                    {
                                        "name": "AVERAGE"
                                    }
                                ]
                            },
                            "data": [
                                {
                                    "book_id": "24812",
                                    "authors": "Bill Watterson",
                                    "title": "The Complete Calvin and Hobbes",
                                    "AVERAGE": "4.82"
                                },
                                {
                                    "book_id": "17332218",
                                    "authors": "Brandon Sanderson",
                                    "title": "Words of Radiance (The Stormlight Archive, #2)",
                                    "AVERAGE": "4.77"
                                },
                                {
                                    "book_id": "8",
                                    "authors": "J.K. Rowling, Mary GrandPré",
                                    "title": "Harry Potter Boxed Set, Books 1-5 (Harry Potter, #1-5)",
                                    "AVERAGE": "4.77"
                                },
                                {
                                    "book_id": "5031805",
                                    "authors": "Anonymous, Lane T. Dennis, Wayne A. Grudem",
                                    "title": "ESV Study Bible",
                                    "AVERAGE": "4.76"
                                },
                                {
                                    "book_id": "95602",
                                    "authors": "Francine Rivers",
                                    "title": "Mark of the Lion Trilogy",
                                    "AVERAGE": "4.76"
                                },
                                {
                                    "book_id": "24814",
                                    "authors": "Bill Watterson",
                                    "title": "It's a Magical World: A Calvin and Hobbes Collection",
                                    "AVERAGE": "4.75"
                                },
                                {
                                    "book_id": "862041",
                                    "authors": "J.K. Rowling",
                                    "title": "Harry Potter Boxset (Harry Potter, #1-7)",
                                    "AVERAGE": "4.74"
                                },
                                {
                                    "book_id": "70489",
                                    "authors": "Bill Watterson",
                                    "title": "There's Treasure Everywhere: A Calvin and Hobbes Collection",
                                    "AVERAGE": "4.74"
                                },
                                {
                                    "book_id": "10",
                                    "authors": "J.K. Rowling",
                                    "title": "Harry Potter Collection (Harry Potter, #1-6)",
                                    "AVERAGE": "4.73"
                                },
                                {
                                    "book_id": "59715",
                                    "authors": "Bill Watterson",
                                    "title": "The Authoritative Calvin and Hobbes: A Calvin and Hobbes Treasury",
                                    "AVERAGE": "4.73"
                                },
                                {
                                    "book_id": "24815",
                                    "authors": "Bill Watterson",
                                    "title": "The Indispensable Calvin and Hobbes",
                                    "AVERAGE": "4.73"
                                },
                                {
                                    "book_id": "17927395",
                                    "authors": "Sarah J. Maas",
                                    "title": "A Court of Mist and Fury (A Court of Thorns and Roses, #2)",
                                    "AVERAGE": "4.72"
                                },
                                {
                                    "book_id": "70487",
                                    "authors": "Bill Watterson",
                                    "title": "Attack of the Deranged Mutant Killer Monster Snow Goons",
                                    "AVERAGE": "4.72"
                                },
                                {
                                    "book_id": "24816",
                                    "authors": "Bill Watterson",
                                    "title": "Homicidal Psycho Jungle Cat: A Calvin and Hobbes Collection",
                                    "AVERAGE": "4.71"
                                },
                                {
                                    "book_id": "121792",
                                    "authors": "Bill Watterson",
                                    "title": "The Revenge of the Baby-Sat",
                                    "AVERAGE": "4.71"
                                },
                                {
                                    "book_id": "2350129",
                                    "authors": "The Church of Jesus Christ of Latter-day Saints",
                                    "title": "Preach My Gospel: A Guide To Missionary Service",
                                    "AVERAGE": "4.71"
                                },
                                {
                                    "book_id": "24818",
                                    "authors": "Bill Watterson",
                                    "title": "The Days Are Just Packed: A Calvin and Hobbes Collection",
                                    "AVERAGE": "4.68"
                                },
                                {
                                    "book_id": "265205",
                                    "authors": "Anonymous, Ronald A. Beers, Ronald A. Beers",
                                    "title": "Life Application Study Bible: NIV",
                                    "AVERAGE": "4.67"
                                },
                                {
                                    "book_id": "9329354",
                                    "authors": "Brandon Sanderson",
                                    "title": "The Way of Kings, Part 1 (The Stormlight Archive #1.1)",
                                    "AVERAGE": "4.67"
                                },
                                {
                                    "book_id": "99298",
                                    "authors": "J.K. Rowling, Mary GrandPré",
                                    "title": "The Harry Potter Collection 1-4 (Harry Potter, #1-4)",
                                    "AVERAGE": "4.66"
                                },
                                {
                                    "book_id": "5883777",
                                    "authors": "Anonymous",
                                    "title": "The Holy Bible: English Standard Version",
                                    "AVERAGE": "4.66"
                                },
                                {
                                    "book_id": "24494",
                                    "authors": "Bill Watterson",
                                    "title": "The Calvin and Hobbes Lazy Sunday Book",
                                    "AVERAGE": "4.66"
                                },
                                {
                                    "book_id": "43070",
                                    "authors": "Bill Watterson",
                                    "title": "The Essential Calvin and Hobbes: A Calvin and Hobbes Treasury",
                                    "AVERAGE": "4.65"
                                },
                                {
                                    "book_id": "18337259",
                                    "authors": "Daniel Abraham, George R.R. Martin, Tommy Patterson",
                                    "title": "A Game of Thrones: Comic Book, Issue 1",
                                    "AVERAGE": "4.65"
                                },
                                {
                                    "book_id": "23753",
                                    "authors": "Neil Gaiman, Mike Dringenberg, Chris Bachalo, Michael Zulli, Kelly Jones, Charles Vess, Colleen Doran, Malcolm Jones III, Steve Parkhouse, Daniel Vozzo, Lee Loughridge, Steve Oliff, Todd Klein, Dave McKean, Sam Kieth",
                                    "title": "The Absolute Sandman, Volume One",
                                    "AVERAGE": "4.65"
                                },
                                {
                                    "book_id": "7235533",
                                    "authors": "Brandon Sanderson",
                                    "title": "The Way of Kings (The Stormlight Archive, #1)",
                                    "AVERAGE": "4.64"
                                },
                                {
                                    "book_id": "24813",
                                    "authors": "Bill Watterson",
                                    "title": "The Calvin and Hobbes Tenth Anniversary Book",
                                    "AVERAGE": "4.63"
                                },
                                {
                                    "book_id": "9814682",
                                    "authors": "George R.R. Martin",
                                    "title": "A Song of Ice and Fire (A Song of Ice and Fire, #1-4)",
                                    "AVERAGE": "4.63"
                                },
                                {
                                    "book_id": "12177850",
                                    "authors": "George R.R. Martin",
                                    "title": "A Song of Ice and Fire (A Song of Ice and Fire, #1-5)",
                                    "AVERAGE": "4.63"
                                },
                                {
                                    "book_id": "481749",
                                    "authors": "James E. Talmage",
                                    "title": "Jesus the Christ",
                                    "AVERAGE": "4.63"
                                },
                                {
                                    "book_id": "46292",
                                    "authors": "Hafez",
                                    "title": "The Divan",
                                    "AVERAGE": "4.63"
                                },
                                {
                                    "book_id": "6801614",
                                    "authors": "Eiichirō Oda",
                                    "title": "One Piece, Volume 38: Rocketman!! (One Piece, #38)",
                                    "AVERAGE": "4.63"
                                },
                                {
                                    "book_id": "22299763",
                                    "authors": "Leigh Bardugo",
                                    "title": "Crooked Kingdom (Six of Crows, #2)",
                                    "AVERAGE": "4.62"
                                },
                                {
                                    "book_id": "32075671",
                                    "authors": "Angie Thomas",
                                    "title": "The Hate U Give",
                                    "AVERAGE": "4.62"
                                },
                                {
                                    "book_id": "136251",
                                    "authors": "J.K. Rowling, Mary GrandPré",
                                    "title": "Harry Potter and the Deathly Hallows (Harry Potter, #7)",
                                    "AVERAGE": "4.61"
                                },
                                {
                                    "book_id": "77727",
                                    "authors": "Bill Watterson, G.B. Trudeau",
                                    "title": "Calvin and Hobbes",
                                    "AVERAGE": "4.61"
                                },
                                {
                                    "book_id": "280111",
                                    "authors": "Anonymous",
                                    "title": "Holy Bible: New International Version",
                                    "AVERAGE": "4.61"
                                },
                                {
                                    "book_id": "2223324",
                                    "authors": "John   Williams",
                                    "title": "Harry Potter and the Chamber of Secrets: Sheet Music for Flute with C.D",
                                    "AVERAGE": "4.61"
                                },
                                {
                                    "book_id": "6339989",
                                    "authors": "Richelle Mead",
                                    "title": "Vampire Academy Collection (Vampire Academy, #1-3)",
                                    "AVERAGE": "4.61"
                                },
                                {
                                    "book_id": "596259",
                                    "authors": "Gordon B. Hinckley",
                                    "title": "Standing for Something: 10 Neglected Virtues That Will Heal Our Hearts and Homes",
                                    "AVERAGE": "4.61"
                                },
                                {
                                    "book_id": "47697",
                                    "authors": "Alisa Kwitney, Neil Gaiman",
                                    "title": "The Sandman: King of Dreams",
                                    "AVERAGE": "4.61"
                                },
                                {
                                    "book_id": "18006496",
                                    "authors": "Sarah J. Maas",
                                    "title": "Queen of Shadows (Throne of Glass, #4)",
                                    "AVERAGE": "4.6"
                                },
                                {
                                    "book_id": "95617",
                                    "authors": "Francine Rivers, Richard Ferrone",
                                    "title": "A Voice in the Wind (Mark of the Lion, #1)",
                                    "AVERAGE": "4.6"
                                },
                                {
                                    "book_id": "46601",
                                    "authors": "Francine Rivers",
                                    "title": "An Echo in the Darkness (Mark of the Lion, #2)",
                                    "AVERAGE": "4.6"
                                },
                                {
                                    "book_id": "7025086",
                                    "authors": "Christopher Yost, Pasqual Ferry, Orson Scott Card",
                                    "title": "Ender's Game, Volume 2: Command School",
                                    "AVERAGE": "4.6"
                                },
                                {
                                    "book_id": "18335634",
                                    "authors": "Cassandra Clare",
                                    "title": "Clockwork Princess (The Infernal Devices, #3)",
                                    "AVERAGE": "4.59"
                                },
                                {
                                    "book_id": "30",
                                    "authors": "J.R.R. Tolkien",
                                    "title": "J.R.R. Tolkien 4-Book Boxed Set: The Hobbit and The Lord of the Rings",
                                    "AVERAGE": "4.59"
                                },
                                {
                                    "book_id": "2299110",
                                    "authors": "Sherrilyn Kenyon",
                                    "title": "Acheron (Dark-Hunter #14)",
                                    "AVERAGE": "4.59"
                                },
                                {
                                    "book_id": "119",
                                    "authors": "Gary Russell",
                                    "title": "The Lord of the Rings: The Art of The Fellowship of the Ring",
                                    "AVERAGE": "4.59"
                                },
                                {
                                    "book_id": "71252",
                                    "authors": "Neil Gaiman, Marc Hempel, Richard Case, D'Israeli, Teddy Kristiansen, Glyn Dillon, Charles Vess, Dean Ormston, Kevin Nowlan, Todd Klein, Frank McConnell",
                                    "title": "The Kindly Ones (The Sandman #9)",
                                    "AVERAGE": "4.59"
                                },
                                {
                                    "book_id": "349254",
                                    "authors": "Jude Fisher",
                                    "title": "The Lord of the Rings: The Return of the King: Visual Companion",
                                    "AVERAGE": "4.59"
                                },
                                {
                                    "book_id": "9832370",
                                    "authors": "BookRags",
                                    "title": "BookRags Summary:  A Storm of Swords",
                                    "AVERAGE": "4.59"
                                },
                                {
                                    "book_id": "11106458",
                                    "authors": "Cassandra Clare",
                                    "title": "The Mortal Instruments (The Mortal Instruments #1-4)",
                                    "AVERAGE": "4.59"
                                },
                                {
                                    "book_id": "14367051",
                                    "authors": "Cassandra Clare",
                                    "title": "City of Bones / City of Ashes / City of Glass / City of Fallen Angels / City of Lost Souls (The Mortal Instruments, #1-5)",
                                    "AVERAGE": "4.59"
                                },
                                {
                                    "book_id": "28260587",
                                    "authors": "Sarah J. Maas",
                                    "title": "Empire of Storms (Throne of Glass, #5)",
                                    "AVERAGE": "4.58"
                                },
                                {
                                    "book_id": "3165162",
                                    "authors": "Rick Riordan",
                                    "title": "Percy Jackson and the Olympians (Percy Jackson and the Olympians, #1-3)",
                                    "AVERAGE": "4.58"
                                },
                                {
                                    "book_id": "20342617",
                                    "authors": "Bryan Stevenson",
                                    "title": "Just Mercy: A Story of Justice and Redemption",
                                    "AVERAGE": "4.58"
                                },
                                {
                                    "book_id": "17961",
                                    "authors": "Jorge Luis Borges, Andrew Hurley",
                                    "title": "Collected Fictions",
                                    "AVERAGE": "4.58"
                                },
                                {
                                    "book_id": "4808763",
                                    "authors": "Isaac Asimov, Bob E. Flick, Jim Gallant",
                                    "title": "The Last Question",
                                    "AVERAGE": "4.58"
                                },
                                {
                                    "book_id": "15767586",
                                    "authors": "Sherrilyn Kenyon",
                                    "title": "Styxx (Dark-Hunter, #22)",
                                    "AVERAGE": "4.58"
                                },
                                {
                                    "book_id": "892295",
                                    "authors": "Arthur Conan Doyle, William S. Baring-Gould",
                                    "title": "The Annotated Sherlock Holmes: The Four Novels and the Fifty-Six Short Stories Complete (2 Volume Set)",
                                    "AVERAGE": "4.58"
                                },
                                {
                                    "book_id": "1215032",
                                    "authors": "Patrick Rothfuss",
                                    "title": "The Wise Man's Fear (The Kingkiller Chronicle, #2)",
                                    "AVERAGE": "4.57"
                                },
                                {
                                    "book_id": "6485421",
                                    "authors": "Cassandra Clare",
                                    "title": "The Mortal Instruments Boxed Set: City of Bones; City of Ashes; City of Glass (The Mortal Instruments, #1-3)",
                                    "AVERAGE": "4.57"
                                },
                                {
                                    "book_id": "17131869",
                                    "authors": "Brian K. Vaughan, Fiona Staples",
                                    "title": "Saga, Vol. 2 (Saga, #2)",
                                    "AVERAGE": "4.57"
                                },
                                {
                                    "book_id": "8718952",
                                    "authors": "Richelle Mead",
                                    "title": "Vampire Academy Box Set (Vampire Academy, #1-4)",
                                    "AVERAGE": "4.57"
                                },
                                {
                                    "book_id": "4634266",
                                    "authors": "Masashi Kishimoto",
                                    "title": "NARUTO -ナルト- 巻ノ四十三",
                                    "AVERAGE": "4.57"
                                },
                                {
                                    "book_id": "6443349",
                                    "authors": "Rick Riordan, Tk",
                                    "title": "Percy Jackson and the Olympians Boxed Set (Percy Jackson and the Olympians, #1-5)",
                                    "AVERAGE": "4.57"
                                },
                                {
                                    "book_id": "545425",
                                    "authors": "Safiy al-Rahman al-Mubarakfuri",
                                    "title": "الرحيق المختوم",
                                    "AVERAGE": "4.57"
                                },
                                {
                                    "book_id": "17333174",
                                    "authors": "Ilona Andrews",
                                    "title": "Magic Binds (Kate Daniels, #9)",
                                    "AVERAGE": "4.57"
                                },
                                {
                                    "book_id": "147915",
                                    "authors": "George R.R. Martin",
                                    "title": "A Storm of Swords: Blood and Gold (A Song of Ice and Fire, #3: Part 2 of 2)",
                                    "AVERAGE": "4.56"
                                },
                                {
                                    "book_id": "19358975",
                                    "authors": "Brian K. Vaughan, Fiona Staples",
                                    "title": "Saga, Vol. 3 (Saga, #3)",
                                    "AVERAGE": "4.56"
                                },
                                {
                                    "book_id": "10785687",
                                    "authors": "Bob McCabe",
                                    "title": "Harry Potter Page to Screen: The Complete Filmmaking Journey",
                                    "AVERAGE": "4.56"
                                },
                                {
                                    "book_id": "17880714",
                                    "authors": "K. Bromberg",
                                    "title": "Crashed (Driven, #3)",
                                    "AVERAGE": "4.56"
                                },
                                {
                                    "book_id": "1317181",
                                    "authors": "J.K. Rowling",
                                    "title": "Harry Potter and the Order of the Phoenix (Harry Potter, #5, Part 1)",
                                    "AVERAGE": "4.56"
                                },
                                {
                                    "book_id": "15743078",
                                    "authors": "Veronica Roth",
                                    "title": "The Divergent Series 2-Book Collection (Divergent, #1-2)",
                                    "AVERAGE": "4.56"
                                },
                                {
                                    "book_id": "29236299",
                                    "authors": "Amie Kaufman, Jay Kristoff, Marie Lu",
                                    "title": "Gemina (The Illuminae Files, #2)",
                                    "AVERAGE": "4.56"
                                },
                                {
                                    "book_id": "186074",
                                    "authors": "Patrick Rothfuss",
                                    "title": "The Name of the Wind (The Kingkiller Chronicle, #1)",
                                    "AVERAGE": "4.55"
                                },
                                {
                                    "book_id": "19486421",
                                    "authors": "Jim Butcher",
                                    "title": "Skin Game (The Dresden Files, #15)",
                                    "AVERAGE": "4.55"
                                },
                                {
                                    "book_id": "6604209",
                                    "authors": "Brandon Sanderson",
                                    "title": "Mistborn Trilogy Boxed Set (Mistborn, #1-3)",
                                    "AVERAGE": "4.55"
                                },
                                {
                                    "book_id": "25105",
                                    "authors": "Neil Gaiman, Jill Thompson, Vince Locke, Peter Straub",
                                    "title": "Brief Lives (The Sandman #7)",
                                    "AVERAGE": "4.55"
                                },
                                {
                                    "book_id": "8346300",
                                    "authors": "Andrew Williamson, Andrew Williamson",
                                    "title": "Harry Potter: A Pop-Up Book: Based on the Film Phenomenon",
                                    "AVERAGE": "4.55"
                                },
                                {
                                    "book_id": "14905",
                                    "authors": "Jane Austen",
                                    "title": "The Complete Novels",
                                    "AVERAGE": "4.55"
                                },
                                {
                                    "book_id": "13184992",
                                    "authors": "Kristen Ashley",
                                    "title": "Rock Chick Regret (Rock Chick, #7)",
                                    "AVERAGE": "4.55"
                                },
                                {
                                    "book_id": "71823",
                                    "authors": "Stephen King",
                                    "title": "The Green Mile, Part 6: Coffey on the Mile",
                                    "AVERAGE": "4.55"
                                },
                                {
                                    "book_id": "1",
                                    "authors": "J.K. Rowling, Mary GrandPré",
                                    "title": "Harry Potter and the Half-Blood Prince (Harry Potter, #6)",
                                    "AVERAGE": "4.54"
                                },
                                {
                                    "book_id": "62291",
                                    "authors": "George R.R. Martin",
                                    "title": "A Storm of Swords (A Song of Ice and Fire, #3)",
                                    "AVERAGE": "4.54"
                                },
                                {
                                    "book_id": "21853621",
                                    "authors": "Kristin Hannah",
                                    "title": "The Nightingale",
                                    "AVERAGE": "4.54"
                                },
                                {
                                    "book_id": "12127810",
                                    "authors": "Rick Riordan",
                                    "title": "The House of Hades (The Heroes of Olympus, #4)",
                                    "AVERAGE": "4.54"
                                },
                                {
                                    "book_id": "6585201",
                                    "authors": "Jim Butcher",
                                    "title": "Changes (The Dresden Files, #12)",
                                    "AVERAGE": "4.54"
                                },
                                {
                                    "book_id": "381421",
                                    "authors": "Sarah  Young",
                                    "title": "Jesus Calling: Enjoying Peace in His Presence",
                                    "AVERAGE": "4.54"
                                },
                                {
                                    "book_id": "25101",
                                    "authors": "Neil Gaiman, Matt Wagner, George Pratt, Dick Giordano, Kelley Jones, P. Craig Russell, Mike Dringenberg, Malcolm Jones III, Todd Klein, Harlan Ellison",
                                    "title": "Season of Mists (The Sandman #4)",
                                    "AVERAGE": "4.54"
                                },
                                {
                                    "book_id": "89959",
                                    "authors": "Founding Fathers",
                                    "title": "The Constitution of the United States of America",
                                    "AVERAGE": "4.54"
                                },
                                {
                                    "book_id": "23766634",
                                    "authors": "Sarah J. Maas",
                                    "title": "A Court of Wings and Ruin (A Court of Thorns and Roses, #3)",
                                    "AVERAGE": "4.54"
                                },
                                {
                                    "book_id": "20706320",
                                    "authors": "Chris Colfer, Brandon Dorman",
                                    "title": "A Grimm Warning (The Land of Stories, #3)",
                                    "AVERAGE": "4.54"
                                },
                                {
                                    "book_id": "8163161",
                                    "authors": "Bisco Hatori",
                                    "title": "Ouran High School Host Club, Vol. 15 (Ouran High School Host Club, #15)",
                                    "AVERAGE": "4.54"
                                },
                                {
                                    "book_id": "5",
                                    "authors": "J.K. Rowling, Mary GrandPré, Rufus Beck",
                                    "title": "Harry Potter and the Prisoner of Azkaban (Harry Potter, #3)",
                                    "AVERAGE": "4.53"
                                },
                                {
                                    "book_id": "6",
                                    "authors": "J.K. Rowling, Mary GrandPré",
                                    "title": "Harry Potter and the Goblet of Fire (Harry Potter, #4)",
                                    "AVERAGE": "4.53"
                                },
                                {
                                    "book_id": "20613470",
                                    "authors": "Sarah J. Maas",
                                    "title": "Heir of Fire (Throne of Glass, #3)",
                                    "AVERAGE": "4.53"
                                },
                                {
                                    "book_id": "15195",
                                    "authors": "Art Spiegelman",
                                    "title": "The Complete Maus (Maus, #1-2)",
                                    "AVERAGE": "4.53"
                                },
                                {
                                    "book_id": "25104",
                                    "authors": "Neil Gaiman, Michael Zulli, Jon J. Muth, Charles Vess, Mikal Gilmore",
                                    "title": "The Wake (The Sandman #10)",
                                    "AVERAGE": "4.53"
                                }
                            ]
                        },
                        "text/html": [
                            "<table>",
                            "<tr><th>book_id</th><th>authors</th><th>title</th><th>AVERAGE</th></tr>",
                            "<tr><td>24812</td><td>Bill Watterson</td><td>The Complete Calvin and Hobbes</td><td>4.82</td></tr>",
                            "<tr><td>17332218</td><td>Brandon Sanderson</td><td>Words of Radiance (The Stormlight Archive, #2)</td><td>4.77</td></tr>",
                            "<tr><td>8</td><td>J.K. Rowling, Mary GrandPré</td><td>Harry Potter Boxed Set, Books 1-5 (Harry Potter, #1-5)</td><td>4.77</td></tr>",
                            "<tr><td>5031805</td><td>Anonymous, Lane T. Dennis, Wayne A. Grudem</td><td>ESV Study Bible</td><td>4.76</td></tr>",
                            "<tr><td>95602</td><td>Francine Rivers</td><td>Mark of the Lion Trilogy</td><td>4.76</td></tr>",
                            "<tr><td>24814</td><td>Bill Watterson</td><td>It's a Magical World: A Calvin and Hobbes Collection</td><td>4.75</td></tr>",
                            "<tr><td>862041</td><td>J.K. Rowling</td><td>Harry Potter Boxset (Harry Potter, #1-7)</td><td>4.74</td></tr>",
                            "<tr><td>70489</td><td>Bill Watterson</td><td>There's Treasure Everywhere: A Calvin and Hobbes Collection</td><td>4.74</td></tr>",
                            "<tr><td>10</td><td>J.K. Rowling</td><td>Harry Potter Collection (Harry Potter, #1-6)</td><td>4.73</td></tr>",
                            "<tr><td>59715</td><td>Bill Watterson</td><td>The Authoritative Calvin and Hobbes: A Calvin and Hobbes Treasury</td><td>4.73</td></tr>",
                            "<tr><td>24815</td><td>Bill Watterson</td><td>The Indispensable Calvin and Hobbes</td><td>4.73</td></tr>",
                            "<tr><td>17927395</td><td>Sarah J. Maas</td><td>A Court of Mist and Fury (A Court of Thorns and Roses, #2)</td><td>4.72</td></tr>",
                            "<tr><td>70487</td><td>Bill Watterson</td><td>Attack of the Deranged Mutant Killer Monster Snow Goons</td><td>4.72</td></tr>",
                            "<tr><td>24816</td><td>Bill Watterson</td><td>Homicidal Psycho Jungle Cat: A Calvin and Hobbes Collection</td><td>4.71</td></tr>",
                            "<tr><td>121792</td><td>Bill Watterson</td><td>The Revenge of the Baby-Sat</td><td>4.71</td></tr>",
                            "<tr><td>2350129</td><td>The Church of Jesus Christ of Latter-day Saints</td><td>Preach My Gospel: A Guide To Missionary Service</td><td>4.71</td></tr>",
                            "<tr><td>24818</td><td>Bill Watterson</td><td>The Days Are Just Packed: A Calvin and Hobbes Collection</td><td>4.68</td></tr>",
                            "<tr><td>265205</td><td>Anonymous, Ronald A. Beers, Ronald A. Beers</td><td>Life Application Study Bible: NIV</td><td>4.67</td></tr>",
                            "<tr><td>9329354</td><td>Brandon Sanderson</td><td>The Way of Kings, Part 1 (The Stormlight Archive #1.1)</td><td>4.67</td></tr>",
                            "<tr><td>99298</td><td>J.K. Rowling, Mary GrandPré</td><td>The Harry Potter Collection 1-4 (Harry Potter, #1-4)</td><td>4.66</td></tr>",
                            "<tr><td>5883777</td><td>Anonymous</td><td>The Holy Bible: English Standard Version</td><td>4.66</td></tr>",
                            "<tr><td>24494</td><td>Bill Watterson</td><td>The Calvin and Hobbes Lazy Sunday Book</td><td>4.66</td></tr>",
                            "<tr><td>43070</td><td>Bill Watterson</td><td>The Essential Calvin and Hobbes: A Calvin and Hobbes Treasury</td><td>4.65</td></tr>",
                            "<tr><td>18337259</td><td>Daniel Abraham, George R.R. Martin, Tommy Patterson</td><td>A Game of Thrones: Comic Book, Issue 1</td><td>4.65</td></tr>",
                            "<tr><td>23753</td><td>Neil Gaiman, Mike Dringenberg, Chris Bachalo, Michael Zulli, Kelly Jones, Charles Vess, Colleen Doran, Malcolm Jones III, Steve Parkhouse, Daniel Vozzo, Lee Loughridge, Steve Oliff, Todd Klein, Dave McKean, Sam Kieth</td><td>The Absolute Sandman, Volume One</td><td>4.65</td></tr>",
                            "<tr><td>7235533</td><td>Brandon Sanderson</td><td>The Way of Kings (The Stormlight Archive, #1)</td><td>4.64</td></tr>",
                            "<tr><td>24813</td><td>Bill Watterson</td><td>The Calvin and Hobbes Tenth Anniversary Book</td><td>4.63</td></tr>",
                            "<tr><td>9814682</td><td>George R.R. Martin</td><td>A Song of Ice and Fire (A Song of Ice and Fire, #1-4)</td><td>4.63</td></tr>",
                            "<tr><td>12177850</td><td>George R.R. Martin</td><td>A Song of Ice and Fire (A Song of Ice and Fire, #1-5)</td><td>4.63</td></tr>",
                            "<tr><td>481749</td><td>James E. Talmage</td><td>Jesus the Christ</td><td>4.63</td></tr>",
                            "<tr><td>46292</td><td>Hafez</td><td>The Divan</td><td>4.63</td></tr>",
                            "<tr><td>6801614</td><td>Eiichirō Oda</td><td>One Piece, Volume 38: Rocketman!! (One Piece, #38)</td><td>4.63</td></tr>",
                            "<tr><td>22299763</td><td>Leigh Bardugo</td><td>Crooked Kingdom (Six of Crows, #2)</td><td>4.62</td></tr>",
                            "<tr><td>32075671</td><td>Angie Thomas</td><td>The Hate U Give</td><td>4.62</td></tr>",
                            "<tr><td>136251</td><td>J.K. Rowling, Mary GrandPré</td><td>Harry Potter and the Deathly Hallows (Harry Potter, #7)</td><td>4.61</td></tr>",
                            "<tr><td>77727</td><td>Bill Watterson, G.B. Trudeau</td><td>Calvin and Hobbes</td><td>4.61</td></tr>",
                            "<tr><td>280111</td><td>Anonymous</td><td>Holy Bible: New International Version</td><td>4.61</td></tr>",
                            "<tr><td>2223324</td><td>John   Williams</td><td>Harry Potter and the Chamber of Secrets: Sheet Music for Flute with C.D</td><td>4.61</td></tr>",
                            "<tr><td>6339989</td><td>Richelle Mead</td><td>Vampire Academy Collection (Vampire Academy, #1-3)</td><td>4.61</td></tr>",
                            "<tr><td>596259</td><td>Gordon B. Hinckley</td><td>Standing for Something: 10 Neglected Virtues That Will Heal Our Hearts and Homes</td><td>4.61</td></tr>",
                            "<tr><td>47697</td><td>Alisa Kwitney, Neil Gaiman</td><td>The Sandman: King of Dreams</td><td>4.61</td></tr>",
                            "<tr><td>18006496</td><td>Sarah J. Maas</td><td>Queen of Shadows (Throne of Glass, #4)</td><td>4.6</td></tr>",
                            "<tr><td>95617</td><td>Francine Rivers, Richard Ferrone</td><td>A Voice in the Wind (Mark of the Lion, #1)</td><td>4.6</td></tr>",
                            "<tr><td>46601</td><td>Francine Rivers</td><td>An Echo in the Darkness (Mark of the Lion, #2)</td><td>4.6</td></tr>",
                            "<tr><td>7025086</td><td>Christopher Yost, Pasqual Ferry, Orson Scott Card</td><td>Ender's Game, Volume 2: Command School</td><td>4.6</td></tr>",
                            "<tr><td>18335634</td><td>Cassandra Clare</td><td>Clockwork Princess (The Infernal Devices, #3)</td><td>4.59</td></tr>",
                            "<tr><td>30</td><td>J.R.R. Tolkien</td><td>J.R.R. Tolkien 4-Book Boxed Set: The Hobbit and The Lord of the Rings</td><td>4.59</td></tr>",
                            "<tr><td>2299110</td><td>Sherrilyn Kenyon</td><td>Acheron (Dark-Hunter #14)</td><td>4.59</td></tr>",
                            "<tr><td>119</td><td>Gary Russell</td><td>The Lord of the Rings: The Art of The Fellowship of the Ring</td><td>4.59</td></tr>",
                            "<tr><td>71252</td><td>Neil Gaiman, Marc Hempel, Richard Case, D'Israeli, Teddy Kristiansen, Glyn Dillon, Charles Vess, Dean Ormston, Kevin Nowlan, Todd Klein, Frank McConnell</td><td>The Kindly Ones (The Sandman #9)</td><td>4.59</td></tr>",
                            "<tr><td>349254</td><td>Jude Fisher</td><td>The Lord of the Rings: The Return of the King: Visual Companion</td><td>4.59</td></tr>",
                            "<tr><td>9832370</td><td>BookRags</td><td>BookRags Summary:  A Storm of Swords</td><td>4.59</td></tr>",
                            "<tr><td>11106458</td><td>Cassandra Clare</td><td>The Mortal Instruments (The Mortal Instruments #1-4)</td><td>4.59</td></tr>",
                            "<tr><td>14367051</td><td>Cassandra Clare</td><td>City of Bones / City of Ashes / City of Glass / City of Fallen Angels / City of Lost Souls (The Mortal Instruments, #1-5)</td><td>4.59</td></tr>",
                            "<tr><td>28260587</td><td>Sarah J. Maas</td><td>Empire of Storms (Throne of Glass, #5)</td><td>4.58</td></tr>",
                            "<tr><td>3165162</td><td>Rick Riordan</td><td>Percy Jackson and the Olympians (Percy Jackson and the Olympians, #1-3)</td><td>4.58</td></tr>",
                            "<tr><td>20342617</td><td>Bryan Stevenson</td><td>Just Mercy: A Story of Justice and Redemption</td><td>4.58</td></tr>",
                            "<tr><td>17961</td><td>Jorge Luis Borges, Andrew Hurley</td><td>Collected Fictions</td><td>4.58</td></tr>",
                            "<tr><td>4808763</td><td>Isaac Asimov, Bob E. Flick, Jim Gallant</td><td>The Last Question</td><td>4.58</td></tr>",
                            "<tr><td>15767586</td><td>Sherrilyn Kenyon</td><td>Styxx (Dark-Hunter, #22)</td><td>4.58</td></tr>",
                            "<tr><td>892295</td><td>Arthur Conan Doyle, William S. Baring-Gould</td><td>The Annotated Sherlock Holmes: The Four Novels and the Fifty-Six Short Stories Complete (2 Volume Set)</td><td>4.58</td></tr>",
                            "<tr><td>1215032</td><td>Patrick Rothfuss</td><td>The Wise Man's Fear (The Kingkiller Chronicle, #2)</td><td>4.57</td></tr>",
                            "<tr><td>6485421</td><td>Cassandra Clare</td><td>The Mortal Instruments Boxed Set: City of Bones; City of Ashes; City of Glass (The Mortal Instruments, #1-3)</td><td>4.57</td></tr>",
                            "<tr><td>17131869</td><td>Brian K. Vaughan, Fiona Staples</td><td>Saga, Vol. 2 (Saga, #2)</td><td>4.57</td></tr>",
                            "<tr><td>8718952</td><td>Richelle Mead</td><td>Vampire Academy Box Set (Vampire Academy, #1-4)</td><td>4.57</td></tr>",
                            "<tr><td>4634266</td><td>Masashi Kishimoto</td><td>NARUTO -ナルト- 巻ノ四十三</td><td>4.57</td></tr>",
                            "<tr><td>6443349</td><td>Rick Riordan, Tk</td><td>Percy Jackson and the Olympians Boxed Set (Percy Jackson and the Olympians, #1-5)</td><td>4.57</td></tr>",
                            "<tr><td>545425</td><td>Safiy al-Rahman al-Mubarakfuri</td><td>الرحيق المختوم</td><td>4.57</td></tr>",
                            "<tr><td>17333174</td><td>Ilona Andrews</td><td>Magic Binds (Kate Daniels, #9)</td><td>4.57</td></tr>",
                            "<tr><td>147915</td><td>George R.R. Martin</td><td>A Storm of Swords: Blood and Gold (A Song of Ice and Fire, #3: Part 2 of 2)</td><td>4.56</td></tr>",
                            "<tr><td>19358975</td><td>Brian K. Vaughan, Fiona Staples</td><td>Saga, Vol. 3 (Saga, #3)</td><td>4.56</td></tr>",
                            "<tr><td>10785687</td><td>Bob McCabe</td><td>Harry Potter Page to Screen: The Complete Filmmaking Journey</td><td>4.56</td></tr>",
                            "<tr><td>17880714</td><td>K. Bromberg</td><td>Crashed (Driven, #3)</td><td>4.56</td></tr>",
                            "<tr><td>1317181</td><td>J.K. Rowling</td><td>Harry Potter and the Order of the Phoenix (Harry Potter, #5, Part 1)</td><td>4.56</td></tr>",
                            "<tr><td>15743078</td><td>Veronica Roth</td><td>The Divergent Series 2-Book Collection (Divergent, #1-2)</td><td>4.56</td></tr>",
                            "<tr><td>29236299</td><td>Amie Kaufman, Jay Kristoff, Marie Lu</td><td>Gemina (The Illuminae Files, #2)</td><td>4.56</td></tr>",
                            "<tr><td>186074</td><td>Patrick Rothfuss</td><td>The Name of the Wind (The Kingkiller Chronicle, #1)</td><td>4.55</td></tr>",
                            "<tr><td>19486421</td><td>Jim Butcher</td><td>Skin Game (The Dresden Files, #15)</td><td>4.55</td></tr>",
                            "<tr><td>6604209</td><td>Brandon Sanderson</td><td>Mistborn Trilogy Boxed Set (Mistborn, #1-3)</td><td>4.55</td></tr>",
                            "<tr><td>25105</td><td>Neil Gaiman, Jill Thompson, Vince Locke, Peter Straub</td><td>Brief Lives (The Sandman #7)</td><td>4.55</td></tr>",
                            "<tr><td>8346300</td><td>Andrew Williamson, Andrew Williamson</td><td>Harry Potter: A Pop-Up Book: Based on the Film Phenomenon</td><td>4.55</td></tr>",
                            "<tr><td>14905</td><td>Jane Austen</td><td>The Complete Novels</td><td>4.55</td></tr>",
                            "<tr><td>13184992</td><td>Kristen Ashley</td><td>Rock Chick Regret (Rock Chick, #7)</td><td>4.55</td></tr>",
                            "<tr><td>71823</td><td>Stephen King</td><td>The Green Mile, Part 6: Coffey on the Mile</td><td>4.55</td></tr>",
                            "<tr><td>1</td><td>J.K. Rowling, Mary GrandPré</td><td>Harry Potter and the Half-Blood Prince (Harry Potter, #6)</td><td>4.54</td></tr>",
                            "<tr><td>62291</td><td>George R.R. Martin</td><td>A Storm of Swords (A Song of Ice and Fire, #3)</td><td>4.54</td></tr>",
                            "<tr><td>21853621</td><td>Kristin Hannah</td><td>The Nightingale</td><td>4.54</td></tr>",
                            "<tr><td>12127810</td><td>Rick Riordan</td><td>The House of Hades (The Heroes of Olympus, #4)</td><td>4.54</td></tr>",
                            "<tr><td>6585201</td><td>Jim Butcher</td><td>Changes (The Dresden Files, #12)</td><td>4.54</td></tr>",
                            "<tr><td>381421</td><td>Sarah  Young</td><td>Jesus Calling: Enjoying Peace in His Presence</td><td>4.54</td></tr>",
                            "<tr><td>25101</td><td>Neil Gaiman, Matt Wagner, George Pratt, Dick Giordano, Kelley Jones, P. Craig Russell, Mike Dringenberg, Malcolm Jones III, Todd Klein, Harlan Ellison</td><td>Season of Mists (The Sandman #4)</td><td>4.54</td></tr>",
                            "<tr><td>89959</td><td>Founding Fathers</td><td>The Constitution of the United States of America</td><td>4.54</td></tr>",
                            "<tr><td>23766634</td><td>Sarah J. Maas</td><td>A Court of Wings and Ruin (A Court of Thorns and Roses, #3)</td><td>4.54</td></tr>",
                            "<tr><td>20706320</td><td>Chris Colfer, Brandon Dorman</td><td>A Grimm Warning (The Land of Stories, #3)</td><td>4.54</td></tr>",
                            "<tr><td>8163161</td><td>Bisco Hatori</td><td>Ouran High School Host Club, Vol. 15 (Ouran High School Host Club, #15)</td><td>4.54</td></tr>",
                            "<tr><td>5</td><td>J.K. Rowling, Mary GrandPré, Rufus Beck</td><td>Harry Potter and the Prisoner of Azkaban (Harry Potter, #3)</td><td>4.53</td></tr>",
                            "<tr><td>6</td><td>J.K. Rowling, Mary GrandPré</td><td>Harry Potter and the Goblet of Fire (Harry Potter, #4)</td><td>4.53</td></tr>",
                            "<tr><td>20613470</td><td>Sarah J. Maas</td><td>Heir of Fire (Throne of Glass, #3)</td><td>4.53</td></tr>",
                            "<tr><td>15195</td><td>Art Spiegelman</td><td>The Complete Maus (Maus, #1-2)</td><td>4.53</td></tr>",
                            "<tr><td>25104</td><td>Neil Gaiman, Michael Zulli, Jon J. Muth, Charles Vess, Mikal Gilmore</td><td>The Wake (The Sandman #10)</td><td>4.53</td></tr>",
                            "</table>"
                        ]
                    }
                }
            ],
            "execution_count": 11
        },
        {
            "cell_type": "markdown",
            "source": [
                "Question 2: Write a query to find the least popular book."
            ],
            "metadata": {
                "azdata_cell_guid": "777429b8-8622-489d-9c49-e2acecd7f17e"
            },
            "attachments": {}
        },
        {
            "cell_type": "code",
            "source": [
                "SELECT  TOP 1 book_id,authors,title,average_rating 'AVERAGE' from BOOKSDB.dbo.books order by AVERAGE ASC\n",
                "\n",
                ""
            ],
            "metadata": {
                "azdata_cell_guid": "c78a1779-db74-470f-a60a-7c72a43d774b",
                "language": "sql"
            },
            "outputs": [
                {
                    "output_type": "display_data",
                    "data": {
                        "text/html": "(1 row affected)"
                    },
                    "metadata": {}
                },
                {
                    "output_type": "display_data",
                    "data": {
                        "text/html": "Total execution time: 00:00:00.056"
                    },
                    "metadata": {}
                },
                {
                    "output_type": "execute_result",
                    "metadata": {},
                    "execution_count": 12,
                    "data": {
                        "application/vnd.dataresource+json": {
                            "schema": {
                                "fields": [
                                    {
                                        "name": "book_id"
                                    },
                                    {
                                        "name": "authors"
                                    },
                                    {
                                        "name": "title"
                                    },
                                    {
                                        "name": "AVERAGE"
                                    }
                                ]
                            },
                            "data": [
                                {
                                    "book_id": "105578",
                                    "authors": "Chetan Bhagat",
                                    "title": "One Night at the Call Center",
                                    "AVERAGE": "2.47"
                                }
                            ]
                        },
                        "text/html": [
                            "<table>",
                            "<tr><th>book_id</th><th>authors</th><th>title</th><th>AVERAGE</th></tr>",
                            "<tr><td>105578</td><td>Chetan Bhagat</td><td>One Night at the Call Center</td><td>2.47</td></tr>",
                            "</table>"
                        ]
                    }
                }
            ],
            "execution_count": 12
        },
        {
            "cell_type": "markdown",
            "source": [
                "Question 3: Which tag is the most popular?"
            ],
            "metadata": {
                "azdata_cell_guid": "a370909d-5d64-49e2-8fec-5220730c8ca7"
            },
            "attachments": {}
        },
        {
            "cell_type": "code",
            "source": [
                "\n",
                "\n",
                "SELECT  TOP 1 max(count)'max count',tag_id FROM BooksDB.dbo.book_tags GROUP BY tag_id ORDER BY max(count) DESC \n",
                " "
            ],
            "metadata": {
                "azdata_cell_guid": "9e0451dc-c4d3-4775-9eb1-904854f459ff",
                "tags": [],
                "language": "sql"
            },
            "outputs": [
                {
                    "output_type": "display_data",
                    "data": {
                        "text/html": "(1 row affected)"
                    },
                    "metadata": {}
                },
                {
                    "output_type": "display_data",
                    "data": {
                        "text/html": "Total execution time: 00:00:00.203"
                    },
                    "metadata": {}
                },
                {
                    "output_type": "execute_result",
                    "metadata": {},
                    "execution_count": 13,
                    "data": {
                        "application/vnd.dataresource+json": {
                            "schema": {
                                "fields": [
                                    {
                                        "name": "max count"
                                    },
                                    {
                                        "name": "tag_id"
                                    }
                                ]
                            },
                            "data": [
                                {
                                    "max count": "596234",
                                    "tag_id": "30574"
                                }
                            ]
                        },
                        "text/html": [
                            "<table>",
                            "<tr><th>max count</th><th>tag_id</th></tr>",
                            "<tr><td>596234</td><td>30574</td></tr>",
                            "</table>"
                        ]
                    }
                }
            ],
            "execution_count": 13
        },
        {
            "cell_type": "markdown",
            "source": [
                "Question 4: What is the name of the most popular tag?"
            ],
            "metadata": {
                "azdata_cell_guid": "3cdfa7e6-c5a6-49fb-aa27-afeece881627"
            },
            "attachments": {}
        },
        {
            "cell_type": "code",
            "source": [
                "\n",
                "SELECT  count(goodreads_book_id)' more count',tag_id FROM BooksDB.dbo.book_tags GROUP BY tag_id ORDER  BY count go"
            ],
            "metadata": {
                "azdata_cell_guid": "3cd3a3ec-4ce2-49b6-b714-44179eed00e1",
                "language": "sql"
            },
            "outputs": [
                {
                    "output_type": "error",
                    "evalue": "Msg 102, Level 15, State 1, Line 2\nIncorrect syntax near 'go'.",
                    "ename": "",
                    "traceback": []
                },
                {
                    "output_type": "display_data",
                    "data": {
                        "text/html": "Total execution time: 00:00:00.049"
                    },
                    "metadata": {}
                }
            ],
            "execution_count": 17
        },
        {
            "cell_type": "markdown",
            "source": [
                "Question 5: How many books where released in the first decade of 2000?"
            ],
            "metadata": {
                "azdata_cell_guid": "b3962545-c0c2-47ca-a3c4-299c2c0a4b0c"
            },
            "attachments": {}
        },
        {
            "cell_type": "code",
            "source": [
                "SElECT COUNT(original_publication_year) FROM BooksDB.dbo.books WHERE (original_publication_year)>=2000;\n",
                ""
            ],
            "metadata": {
                "azdata_cell_guid": "8dcd65e9-1b3e-4cf8-b726-26729a1225f2",
                "language": "sql"
            },
            "outputs": [
                {
                    "output_type": "display_data",
                    "data": {
                        "text/html": "(1 row affected)"
                    },
                    "metadata": {}
                },
                {
                    "output_type": "display_data",
                    "data": {
                        "text/html": "Total execution time: 00:00:00.048"
                    },
                    "metadata": {}
                },
                {
                    "output_type": "execute_result",
                    "metadata": {},
                    "execution_count": 10,
                    "data": {
                        "application/vnd.dataresource+json": {
                            "schema": {
                                "fields": [
                                    {
                                        "name": "(No column name)"
                                    }
                                ]
                            },
                            "data": [
                                {
                                    "(No column name)": "6188"
                                }
                            ]
                        },
                        "text/html": [
                            "<table>",
                            "<tr><th>(No column name)</th></tr>",
                            "<tr><td>6188</td></tr>",
                            "</table>"
                        ]
                    }
                }
            ],
            "execution_count": 10
        },
        {
            "cell_type": "markdown",
            "source": [
                "Question 6: How many book titles contain the word Happy?"
            ],
            "metadata": {
                "azdata_cell_guid": "5080d6de-2775-4055-97ae-f93fce97a426"
            },
            "attachments": {}
        },
        {
            "cell_type": "code",
            "source": [
                "SElECT COUNT(title)'count title happy' FROM BooksDB.dbo.books WHERE title LIKE 'Happy%'\n",
                ""
            ],
            "metadata": {
                "azdata_cell_guid": "f55f18b9-91b1-4761-ad8c-4758434d7827",
                "language": "sql"
            },
            "outputs": [
                {
                    "output_type": "display_data",
                    "data": {
                        "text/html": "(1 row affected)"
                    },
                    "metadata": {}
                },
                {
                    "output_type": "display_data",
                    "data": {
                        "text/html": "Total execution time: 00:00:00.041"
                    },
                    "metadata": {}
                },
                {
                    "output_type": "execute_result",
                    "metadata": {},
                    "execution_count": 20,
                    "data": {
                        "application/vnd.dataresource+json": {
                            "schema": {
                                "fields": [
                                    {
                                        "name": "count title happy"
                                    }
                                ]
                            },
                            "data": [
                                {
                                    "count title happy": "3"
                                }
                            ]
                        },
                        "text/html": [
                            "<table>",
                            "<tr><th>count title happy</th></tr>",
                            "<tr><td>3</td></tr>",
                            "</table>"
                        ]
                    }
                }
            ],
            "execution_count": 20
        },
        {
            "cell_type": "markdown",
            "source": [
                "Question 7: List the books from the top 3 authors from question 1.  If there is more than one author just use the first one. Sort the titles <span style=\"background-color: rgba(127, 127, 127, 0.1); font-family: -apple-system, BlinkMacSystemFont, sans-serif;\">alphabetically by author and then by average_rating, best rated to lowest. Does order matter in sorting?</span>"
            ],
            "metadata": {
                "azdata_cell_guid": "d38270ef-da5a-42b4-802a-506acb8b9e4b"
            },
            "attachments": {}
        },
        {
            "cell_type": "code",
            "source": [
                "-- return all books from the top 3 authors, sort by author and rating\n",
                "select top 3 book_id,authors,title,average_rating 'AVERAGE' from BOOKSDB.dbo.books order by AVERAGE DESC,authors asc\n",
                "\n",
                "\n",
                ""
            ],
            "metadata": {
                "azdata_cell_guid": "47466fac-5d8d-491d-bd3c-2f8496f55e6b",
                "language": "sql"
            },
            "outputs": [
                {
                    "output_type": "display_data",
                    "data": {
                        "text/html": "(3 rows affected)"
                    },
                    "metadata": {}
                },
                {
                    "output_type": "display_data",
                    "data": {
                        "text/html": "Total execution time: 00:00:00.048"
                    },
                    "metadata": {}
                },
                {
                    "output_type": "execute_result",
                    "metadata": {},
                    "execution_count": 18,
                    "data": {
                        "application/vnd.dataresource+json": {
                            "schema": {
                                "fields": [
                                    {
                                        "name": "book_id"
                                    },
                                    {
                                        "name": "authors"
                                    },
                                    {
                                        "name": "title"
                                    },
                                    {
                                        "name": "AVERAGE"
                                    }
                                ]
                            },
                            "data": [
                                {
                                    "book_id": "24812",
                                    "authors": "Bill Watterson",
                                    "title": "The Complete Calvin and Hobbes",
                                    "AVERAGE": "4.82"
                                },
                                {
                                    "book_id": "17332218",
                                    "authors": "Brandon Sanderson",
                                    "title": "Words of Radiance (The Stormlight Archive, #2)",
                                    "AVERAGE": "4.77"
                                },
                                {
                                    "book_id": "8",
                                    "authors": "J.K. Rowling, Mary GrandPré",
                                    "title": "Harry Potter Boxed Set, Books 1-5 (Harry Potter, #1-5)",
                                    "AVERAGE": "4.77"
                                }
                            ]
                        },
                        "text/html": [
                            "<table>",
                            "<tr><th>book_id</th><th>authors</th><th>title</th><th>AVERAGE</th></tr>",
                            "<tr><td>24812</td><td>Bill Watterson</td><td>The Complete Calvin and Hobbes</td><td>4.82</td></tr>",
                            "<tr><td>17332218</td><td>Brandon Sanderson</td><td>Words of Radiance (The Stormlight Archive, #2)</td><td>4.77</td></tr>",
                            "<tr><td>8</td><td>J.K. Rowling, Mary GrandPré</td><td>Harry Potter Boxed Set, Books 1-5 (Harry Potter, #1-5)</td><td>4.77</td></tr>",
                            "</table>"
                        ]
                    }
                }
            ],
            "execution_count": 18
        },
        {
            "cell_type": "markdown",
            "source": [
                "Question 8: Take a close look at J.K. Rowling.  Is her top rated book on this list from question 1?  Why might this be? How could we account for this?\n",
                "\n",
                "> Click here to add your answer."
            ],
            "metadata": {
                "azdata_cell_guid": "db907c70-0bbd-4121-ac91-ae814f703243"
            },
            "attachments": {}
        },
        {
            "cell_type": "markdown",
            "source": [
                "Try updating your above query to include all of J.K. Rowling's books.\n",
                "\n",
                "Are there any other issues?\n",
                "\n",
                "> Click here to add your answer."
            ],
            "metadata": {
                "azdata_cell_guid": "35ee4a48-8e84-4eb5-95ca-f5cdddc8d682"
            },
            "attachments": {}
        },
        {
            "cell_type": "code",
            "source": [
                "-- Try updating your above query to include all of J.K. Rowling's books\n",
                "SELECT TOP 3 book_id,authors,title,average_rating 'AVERAGE' FROM BOOKSDB.dbo.books WHERE authors LIKE 'J.K. Rowling'\n",
                ""
            ],
            "metadata": {
                "azdata_cell_guid": "ce489012-fce9-435c-b570-7734223a0678",
                "tags": [],
                "language": "sql"
            },
            "outputs": [
                {
                    "output_type": "display_data",
                    "data": {
                        "text/html": "(3 rows affected)"
                    },
                    "metadata": {}
                },
                {
                    "output_type": "display_data",
                    "data": {
                        "text/html": "Total execution time: 00:00:00.045"
                    },
                    "metadata": {}
                },
                {
                    "output_type": "execute_result",
                    "metadata": {},
                    "execution_count": 23,
                    "data": {
                        "application/vnd.dataresource+json": {
                            "schema": {
                                "fields": [
                                    {
                                        "name": "book_id"
                                    },
                                    {
                                        "name": "authors"
                                    },
                                    {
                                        "name": "title"
                                    },
                                    {
                                        "name": "AVERAGE"
                                    }
                                ]
                            },
                            "data": [
                                {
                                    "book_id": "13497818",
                                    "authors": "J.K. Rowling",
                                    "title": "The Casual Vacancy",
                                    "AVERAGE": "3.28"
                                },
                                {
                                    "book_id": "3950967",
                                    "authors": "J.K. Rowling",
                                    "title": "The Tales of Beedle the Bard",
                                    "AVERAGE": "4.06"
                                },
                                {
                                    "book_id": "862041",
                                    "authors": "J.K. Rowling",
                                    "title": "Harry Potter Boxset (Harry Potter, #1-7)",
                                    "AVERAGE": "4.74"
                                }
                            ]
                        },
                        "text/html": [
                            "<table>",
                            "<tr><th>book_id</th><th>authors</th><th>title</th><th>AVERAGE</th></tr>",
                            "<tr><td>13497818</td><td>J.K. Rowling</td><td>The Casual Vacancy</td><td>3.28</td></tr>",
                            "<tr><td>3950967</td><td>J.K. Rowling</td><td>The Tales of Beedle the Bard</td><td>4.06</td></tr>",
                            "<tr><td>862041</td><td>J.K. Rowling</td><td>Harry Potter Boxset (Harry Potter, #1-7)</td><td>4.74</td></tr>",
                            "</table>"
                        ]
                    }
                }
            ],
            "execution_count": 23
        },
        {
            "cell_type": "markdown",
            "source": [
                "Question 9: Write a query that returns the number of Authors whose first name is between rock and roll."
            ],
            "metadata": {
                "azdata_cell_guid": "75bf5054-4918-4e9e-8e03-24a38ffab9cc"
            },
            "attachments": {}
        },
        {
            "cell_type": "code",
            "source": [
                "-- return number of authors whose first name is between rock and roll\n",
                "\n",
                "select authors,count(authors) from BooksDB.dbo.books where authors  'rock' and 'roll' group by authors\n",
                ""
            ],
            "metadata": {
                "azdata_cell_guid": "491b2492-95d4-4078-b319-386b0c5592ec",
                "language": "sql"
            },
            "outputs": [],
            "execution_count": null
        },
        {
            "cell_type": "markdown",
            "source": [
                "## Part 2. Write your own question and write a query to answer it.\n",
                "\n",
                "Your Question:  Click here to add"
            ],
            "metadata": {
                "azdata_cell_guid": "1ba1363a-4f02-4962-a95a-93b80c5926b1"
            },
            "attachments": {}
        },
        {
            "cell_type": "code",
            "source": [
                "-- Add your querry here\n"
            ],
            "metadata": {
                "azdata_cell_guid": "607f1a61-b306-42bf-a20c-60ec3a6ba86a",
                "language": "sql"
            },
            "outputs": [],
            "execution_count": null
        },
        {
            "cell_type": "markdown",
            "source": [
                "Your Question: Click here to add"
            ],
            "metadata": {
                "azdata_cell_guid": "9386ad04-a016-44d4-8c5c-d25a102d47b4"
            }
        },
        {
            "cell_type": "code",
            "source": [
                "-- Add your querry here\n"
            ],
            "metadata": {
                "azdata_cell_guid": "15f249cf-aad7-468d-92e1-429b2a09f285",
                "language": "sql"
            },
            "outputs": [],
            "execution_count": null
        },
        {
            "cell_type": "markdown",
            "source": [
                "**Some Question Examples:**\n",
                "\n",
                "Write a query that returns the longest title?\n",
                "\n",
                "Which Author has written the most books?  \n",
                "\n",
                "Top  ten books written the year I was born?"
            ],
            "metadata": {
                "azdata_cell_guid": "7160362b-7127-4123-bd1d-95a94ae38a07"
            }
        }
    ]
}